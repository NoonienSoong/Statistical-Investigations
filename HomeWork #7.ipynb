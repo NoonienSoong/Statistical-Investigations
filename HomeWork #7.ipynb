{
 "cells": [
  {
   "cell_type": "markdown",
   "metadata": {},
   "source": [
    "##HW ##\n",
    "04/24/15"
   ]
  },
  {
   "cell_type": "code",
   "execution_count": 1,
   "metadata": {
    "collapsed": false
   },
   "outputs": [
    {
     "name": "stdout",
     "output_type": "stream",
     "text": [
      "Populating the interactive namespace from numpy and matplotlib\n"
     ]
    }
   ],
   "source": [
    "%pylab inline\n",
    "from scipy.stats import norm, chisquare, pareto, beta\n",
    "import pandas as pd"
   ]
  },
  {
   "cell_type": "code",
   "execution_count": 2,
   "metadata": {
    "collapsed": false
   },
   "outputs": [],
   "source": [
    "housefly_wings = [36,37,38,38,39,39,40,40,40,40,41,41,41,41,41,41,42,42,42,42,42,42,42,43,43,43,43,43,43,43,43,44,44,44,44,44,44,\n",
    "         44,44,44,45,45,45,45,45,45,45,45,45,45,46,46,46,46,46,46,46,46,46,46,47,47,47,47,47,47,47,47,47,48,48,48,48,48,\n",
    "         48,48,48,49,49,49,49,49,49,49,50,50,50,50,50,50,51,51,51,51,52,52,53,53,54,55]\n",
    "\n",
    "normalized_wings = (housefly_wings - mean(housefly_wings))/std(housefly_wings)\n",
    "N = len(normalized_wings)"
   ]
  },
  {
   "cell_type": "code",
   "execution_count": 3,
   "metadata": {
    "collapsed": false
   },
   "outputs": [
    {
     "name": "stdout",
     "output_type": "stream",
     "text": [
      "        Bin                Prob.              Expected             Actual               Diff             Chi-square     \n",
      "(-2.4358974358974361, -2.3866873866873868)      0.00107             0.10730                1                0.89270             7.42677       \n",
      "(-2.3866873866873868, -2.3374773374773379)      0.00121             0.12067                0                -0.12067            0.12067       \n",
      "(-2.3374773374773379, -2.2882672882672885)      0.00135             0.13538                0                -0.13538            0.13538       \n",
      "(-2.2882672882672885, -2.2390572390572392)      0.00152             0.15151                0                -0.15151            0.15151       \n",
      "(-2.2390572390572392, -2.1898471898471898)      0.00169             0.16916                0                -0.16916            0.16916       \n",
      "(-2.1898471898471898, -2.1406371406371409)      0.00188             0.18840                1                0.81160             3.49627       \n",
      "(-2.1406371406371409, -2.0914270914270916)      0.00209             0.20932                0                -0.20932            0.20932       \n",
      "(-2.0914270914270916, -2.0422170422170423)      0.00232             0.23201                0                -0.23201            0.23201       \n",
      "(-2.0422170422170423, -1.9930069930069931)      0.00257             0.25653                0                -0.25653            0.25653       \n",
      "(-1.9930069930069931, -1.943796943796944)      0.00283             0.28296                0                -0.28296            0.28296       \n",
      "(-1.943796943796944, -1.8945868945868947)      0.00311             0.31136                2                1.68864             9.15821       \n",
      "(-1.8945868945868947, -1.8453768453768455)      0.00342             0.34178                0                -0.34178            0.34178       \n",
      "(-1.8453768453768455, -1.7961667961667964)      0.00374             0.37426                0                -0.37426            0.37426       \n",
      "(-1.7961667961667964, -1.7469567469567471)      0.00409             0.40884                0                -0.40884            0.40884       \n",
      "(-1.7469567469567471, -1.697746697746698)      0.00446             0.44554                0                -0.44554            0.44554       \n",
      "(-1.697746697746698, -1.6485366485366488)      0.00484             0.48435                2                1.51565             4.74283       \n",
      "(-1.6485366485366488, -1.5993265993265995)      0.00525             0.52527                0                -0.52527            0.52527       \n",
      "(-1.5993265993265995, -1.5501165501165501)      0.00568             0.56827                0                -0.56827            0.56827       \n",
      "(-1.5501165501165501, -1.5009065009065012)      0.00613             0.61331                0                -0.61331            0.61331       \n",
      "(-1.5009065009065012, -1.4516964516964519)      0.00660             0.66031                0                -0.66031            0.66031       \n",
      "(-1.4516964516964519, -1.4024864024864026)      0.00709             0.70920                4                3.29080             15.26980      \n",
      "(-1.4024864024864026, -1.3532763532763534)      0.00760             0.75987                0                -0.75987            0.75987       \n",
      "(-1.3532763532763534, -1.3040663040663043)      0.00812             0.81218                0                -0.81218            0.81218       \n",
      "(-1.3040663040663043, -1.254856254856255)      0.00866             0.86600                0                -0.86600            0.86600       \n",
      "(-1.254856254856255, -1.2056462056462058)      0.00921             0.92115                0                -0.92115            0.92115       \n",
      "(-1.2056462056462058, -1.1564361564361565)      0.00977             0.97744                0                -0.97744            0.97744       \n",
      "(-1.1564361564361565, -1.1072261072261074)      0.01035             1.03467                6                4.96533             23.82840      \n",
      "(-1.1072261072261074, -1.0580160580160582)      0.01093             1.09260                0                -1.09260            1.09260       \n",
      "(-1.0580160580160582, -1.0088060088060089)      0.01151             1.15098                0                -1.15098            1.15098       \n",
      "(-1.0088060088060089, -0.95959595959595978)      0.01210             1.20955                0                -1.20955            1.20955       \n",
      "(-0.95959595959595978, -0.91038591038591044)      0.01268             1.26802                0                -1.26802            1.26802       \n",
      "(-0.91038591038591044, -0.86117586117586131)      0.01326             1.32611                7                5.67389             24.27633      \n",
      "(-0.86117586117586131, -0.81196581196581219)      0.01384             1.38350                0                -1.38350            1.38350       \n",
      "(-0.81196581196581219, -0.76275576275576285)      0.01440             1.43989                0                -1.43989            1.43989       \n",
      "(-0.76275576275576285, -0.71354571354571372)      0.01495             1.49495                0                -1.49495            1.49495       \n",
      "(-0.71354571354571372, -0.66433566433566438)      0.01548             1.54837                0                -1.54837            1.54837       \n",
      "(-0.66433566433566438, -0.61512561512561525)      0.01600             1.59981                8                6.40019             25.60448      \n",
      "(-0.61512561512561525, -0.56591556591556613)      0.01649             1.64897                0                -1.64897            1.64897       \n",
      "(-0.56591556591556613, -0.51670551670551679)      0.01696             1.69553                0                -1.69553            1.69553       \n",
      "(-0.51670551670551679, -0.46749546749546766)      0.01739             1.73918                0                -1.73918            1.73918       \n",
      "(-0.46749546749546766, -0.41828541828541832)      0.01780             1.77965                0                -1.77965            1.77965       \n",
      "(-0.41828541828541832, -0.36907536907536898)      0.01817             1.81665                9                7.18335             28.40410      \n",
      "(-0.36907536907536898, -0.31986531986532007)      0.01850             1.84994                0                -1.84994            1.84994       \n",
      "(-0.31986531986532007, -0.27065527065527073)      0.01879             1.87929                0                -1.87929            1.87929       \n",
      "(-0.27065527065527073, -0.22144522144522139)      0.01904             1.90448                0                -1.90448            1.90448       \n",
      "(-0.22144522144522139, -0.17223517223517248)      0.01925             1.92534                0                -1.92534            1.92534       \n",
      "(-0.17223517223517248, -0.12302512302512314)      0.01942             1.94173                10               8.05827             33.44225      \n",
      "(-0.12302512302512314, -0.073815073815073795)      0.01954             1.95352                0                -1.95352            1.95352       \n",
      "(-0.073815073815073795, -0.024605024605024894)      0.01961             1.96062                0                -1.96062            1.96062       \n",
      "(-0.024605024605024894, 0.02460502460502445)      0.01963             1.96300                0                -1.96300            1.96300       \n",
      "(0.02460502460502445, 0.073815073815073795)      0.01961             1.96062                0                -1.96062            1.96062       \n",
      "(0.073815073815073795, 0.12302512302512314)      0.01954             1.95352                0                -1.95352            1.95352       \n",
      "(0.12302512302512314, 0.17223517223517204)      0.01942             1.94173                10               8.05827             33.44225      \n",
      "(0.17223517223517204, 0.22144522144522139)      0.01925             1.92534                0                -1.92534            1.92534       \n",
      "(0.22144522144522139, 0.27065527065527073)      0.01904             1.90448                0                -1.90448            1.90448       \n",
      "(0.27065527065527073, 0.31986531986531963)      0.01879             1.87929                0                -1.87929            1.87929       \n",
      "(0.31986531986531963, 0.36907536907536898)      0.01850             1.84994                0                -1.84994            1.84994       \n",
      "(0.36907536907536898, 0.41828541828541832)      0.01817             1.81665                9                7.18335             28.40410      \n",
      "(0.41828541828541832, 0.46749546749546722)      0.01780             1.77965                0                -1.77965            1.77965       \n",
      "(0.46749546749546722, 0.51670551670551657)      0.01739             1.73918                0                -1.73918            1.73918       \n",
      "(0.51670551670551657, 0.56591556591556591)      0.01696             1.69553                0                -1.69553            1.69553       \n",
      "(0.56591556591556591, 0.61512561512561525)      0.01649             1.64897                0                -1.64897            1.64897       \n",
      "(0.61512561512561525, 0.66433566433566416)      0.01600             1.59981                8                6.40019             25.60448      \n",
      "(0.66433566433566416, 0.7135457135457135)      0.01548             1.54837                0                -1.54837            1.54837       \n",
      "(0.7135457135457135, 0.76275576275576285)      0.01495             1.49495                0                -1.49495            1.49495       \n",
      "(0.76275576275576285, 0.81196581196581175)      0.01440             1.43989                0                -1.43989            1.43989       \n",
      "(0.81196581196581175, 0.86117586117586109)      0.01384             1.38350                0                -1.38350            1.38350       \n",
      "(0.86117586117586109, 0.91038591038591044)      0.01326             1.32611                7                5.67389             24.27633      \n",
      "(0.91038591038591044, 0.95959595959595978)      0.01268             1.26802                0                -1.26802            1.26802       \n",
      "(0.95959595959595978, 1.0088060088060087)      0.01210             1.20955                0                -1.20955            1.20955       \n",
      "(1.0088060088060087, 1.058016058016058)      0.01151             1.15098                0                -1.15098            1.15098       \n",
      "(1.058016058016058, 1.1072261072261074)      0.01093             1.09260                0                -1.09260            1.09260       \n",
      "(1.1072261072261074, 1.1564361564361563)      0.01035             1.03467                6                4.96533             23.82840      \n",
      "(1.1564361564361563, 1.2056462056462056)      0.00977             0.97744                0                -0.97744            0.97744       \n",
      "(1.2056462056462056, 1.254856254856255)      0.00921             0.92115                0                -0.92115            0.92115       \n",
      "(1.254856254856255, 1.3040663040663039)      0.00866             0.86600                0                -0.86600            0.86600       \n",
      "(1.3040663040663039, 1.3532763532763532)      0.00812             0.81218                0                -0.81218            0.81218       \n",
      "(1.3532763532763532, 1.4024864024864026)      0.00760             0.75987                0                -0.75987            0.75987       \n",
      "(1.4024864024864026, 1.4516964516964519)      0.00709             0.70920                4                3.29080             15.26980      \n",
      "(1.4516964516964519, 1.5009065009065008)      0.00660             0.66031                0                -0.66031            0.66031       \n",
      "(1.5009065009065008, 1.5501165501165501)      0.00613             0.61331                0                -0.61331            0.61331       \n",
      "(1.5501165501165501, 1.5993265993265995)      0.00568             0.56827                0                -0.56827            0.56827       \n",
      "(1.5993265993265995, 1.6485366485366484)      0.00525             0.52527                0                -0.52527            0.52527       \n",
      "(1.6485366485366484, 1.6977466977466982)      0.00484             0.48435                2                1.51565             4.74283       \n",
      "(1.6977466977466982, 1.7469567469567471)      0.00446             0.44554                0                -0.44554            0.44554       \n",
      "(1.7469567469567471, 1.796166796166796)      0.00409             0.40884                0                -0.40884            0.40884       \n",
      "(1.796166796166796, 1.8453768453768458)      0.00374             0.37426                0                -0.37426            0.37426       \n",
      "(1.8453768453768458, 1.8945868945868947)      0.00342             0.34178                0                -0.34178            0.34178       \n",
      "(1.8945868945868947, 1.9437969437969436)      0.00311             0.31136                2                1.68864             9.15821       \n",
      "(1.9437969437969436, 1.9930069930069934)      0.00283             0.28296                0                -0.28296            0.28296       \n",
      "(1.9930069930069934, 2.0422170422170423)      0.00257             0.25653                0                -0.25653            0.25653       \n",
      "(2.0422170422170423, 2.0914270914270912)      0.00232             0.23201                0                -0.23201            0.23201       \n",
      "(2.0914270914270912, 2.1406371406371409)      0.00209             0.20932                0                -0.20932            0.20932       \n",
      "(2.1406371406371409, 2.1898471898471898)      0.00188             0.18840                1                0.81160             3.49627       \n",
      "(2.1898471898471898, 2.2390572390572387)      0.00169             0.16916                0                -0.16916            0.16916       \n",
      "(2.2390572390572387, 2.2882672882672885)      0.00152             0.15151                0                -0.15151            0.15151       \n",
      "(2.2882672882672885, 2.3374773374773374)      0.00135             0.13538                0                -0.13538            0.13538       \n",
      "(2.3374773374773374, 2.3866873866873863)      0.00121             0.12067                0                -0.12067            0.12067       \n",
      "(2.3866873866873863, 2.4358974358974361)      0.00107             0.10730                0                -0.10730            0.10730       \n"
     ]
    }
   ],
   "source": [
    "boundaries = linspace(min(normalized_wings),max(normalized_wings),N)\n",
    "bins = zip(boundaries[:-1], boundaries[1:])\n",
    "\n",
    "probability_of_bin = []\n",
    "expected_count = []\n",
    "actual_count = []\n",
    "diffs = []\n",
    "chi_square = []\n",
    "\n",
    "for _bin in bins:\n",
    "    a, b = _bin\n",
    "    \n",
    "    p = norm.cdf(b) - norm.cdf(a)\n",
    "    \n",
    "    probability_of_bin.append(p)\n",
    "\n",
    "    x = p*N\n",
    "    expected_count.append(x)\n",
    "    \n",
    "    actual = len([y for y in normalized_wings if a <= y < b])\n",
    "    actual_count.append(actual)\n",
    "    \n",
    "    d = actual - x\n",
    "    diffs.append(d)\n",
    "    chi_square.append(d**2/x)\n",
    "    \n",
    "print \"{:^20}{:^20}{:^20}{:^20}{:^20}{:^20}\".format(\"Bin\", \"Prob.\", \"Expected\", \"Actual\", \"Diff\", \"Chi-square\")\n",
    "for i in range(len(bins)):\n",
    "    print \"{:^20}{:^20.5f}{:^20.5f}{:^20}{:^20.5f}{:^20.5f}\".format(\n",
    "        bins[i], probability_of_bin[i], expected_count[i], actual_count[i], diffs[i], chi_square[i]\n",
    "    )"
   ]
  },
  {
   "cell_type": "code",
   "execution_count": 4,
   "metadata": {
    "collapsed": false
   },
   "outputs": [],
   "source": [
    "CONSUMER_KEY=\"HpvRdxSAri7T7NaQJ3UyB78Cb\"\n",
    "CONSUMER_SECRET=\"LBxZ4n1AThk0YMHk7c0C4NS44y1Y47eh8tjzXgpQcrd8mI6RLP\"\n",
    "ACCESS_TOKEN=\"3152137521-k5jRNoO76w7ZAXvHExOmjN8hvABa7SljE4D5NUD\"\n",
    "ACCESS_TOKEN_SECRET=\"RMbv9GvIKpcFgkCxNP0KuYt9fUF21EZ8lLrw7VXXVVtaQ\"\n",
    "\n",
    "import tweepy\n",
    "import datetime\n",
    "\n",
    "def _get_twitter_api():\n",
    "    \"\"\" Return api for twitter using tweepy \"\"\"\n",
    "    auth = tweepy.OAuthHandler(CONSUMER_KEY, CONSUMER_SECRET)\n",
    "    auth.set_access_token(ACCESS_TOKEN, ACCESS_TOKEN_SECRET)\n",
    "    api = tweepy.API(auth)\n",
    "    return api\n",
    "\n",
    "def get_tweets(screen_name, count=100, include_retweets=False):\n",
    "    api = _get_twitter_api()\n",
    "    cursor = tweepy.Cursor(api.user_timeline, id=screen_name, count=count)\n",
    "    tweets = [tweet for tweet in cursor.items(count)]\n",
    "    if include_retweets:\n",
    "        return tweets \n",
    "    return [t for t in tweets if not hasattr(t, 'retweeted_status')]"
   ]
  },
  {
   "cell_type": "code",
   "execution_count": 24,
   "metadata": {
    "collapsed": false
   },
   "outputs": [],
   "source": [
    "tweets = get_tweets('thejoshpatten', 1000, True)"
   ]
  },
  {
   "cell_type": "markdown",
   "metadata": {},
   "source": [
    "### Times Stripped < 8hrs (28800 sec)###"
   ]
  },
  {
   "cell_type": "code",
   "execution_count": 15,
   "metadata": {
    "collapsed": false
   },
   "outputs": [],
   "source": [
    "\n",
    "\n",
    "times = [t.created_at for t in tweets]\n",
    "times.sort()\n",
    "timedeltas = [(times[i+1]-times[i]).total_seconds() for i in range(len(times)-1)]\n",
    "_times = []\n",
    "for i in timedeltas:\n",
    "    if i < 28800:\n",
    "        _times.append(i)"
   ]
  },
  {
   "cell_type": "code",
   "execution_count": 16,
   "metadata": {
    "collapsed": false
   },
   "outputs": [
    {
     "data": {
      "text/plain": [
       "count      737.000000\n",
       "mean      6360.302578\n",
       "std       7468.028264\n",
       "min          2.000000\n",
       "5.0%        79.000000\n",
       "50%       3010.000000\n",
       "95%      23310.400000\n",
       "max      28618.000000\n",
       "dtype: float64"
      ]
     },
     "execution_count": 16,
     "metadata": {},
     "output_type": "execute_result"
    }
   ],
   "source": [
    "df = pd.Series(_times)\n",
    "df.describe(90)"
   ]
  },
  {
   "cell_type": "code",
   "execution_count": 18,
   "metadata": {
    "collapsed": false
   },
   "outputs": [
    {
     "data": {
      "image/png": "[encoded data removed]",
      "text/plain": [
       "<matplotlib.figure.Figure at 0x7f720cb1aad0>"
      ]
     },
     "metadata": {},
     "output_type": "display_data"
    }
   ],
   "source": [
    "_max = 9000\n",
    "_bins = 40\n",
    "mod = [x for x in _times if x < _max]\n",
    "_ = hist(mod, bins=_bins)"
   ]
  },
  {
   "cell_type": "markdown",
   "metadata": {},
   "source": [
    "###Testing if Pareto distribution is a good fit###\n",
    "\n",
    "$f(x) = \\frac{a}{x^(a+1)} ,  1 < x < \\infty $"
   ]
  },
  {
   "cell_type": "code",
   "execution_count": 21,
   "metadata": {
    "collapsed": false
   },
   "outputs": [
    {
     "data": {
      "image/png": "[encoded data removed]",
      "text/plain": [
       "<matplotlib.figure.Figure at 0x7f720c5f85d0>"
      ]
     },
     "metadata": {},
     "output_type": "display_data"
    }
   ],
   "source": [
    "_ = hist(mod, bins=_bins, normed=True)\n",
    "X = linspace(1, _max, 5)\n",
    "Y = pareto(2)\n",
    "_ = plot(X, Y.pdf(X), 'r-')"
   ]
  },
  {
   "cell_type": "markdown",
   "metadata": {},
   "source": [
    "Clearly The pareto is not a proper fit for any a\n"
   ]
  },
  {
   "cell_type": "code",
   "execution_count": 23,
   "metadata": {
    "collapsed": false
   },
   "outputs": [],
   "source": [
    "tweetsk = get_tweets('kanyewest', 1000, True)"
   ]
  },
  {
   "cell_type": "code",
   "execution_count": 25,
   "metadata": {
    "collapsed": false
   },
   "outputs": [
    {
     "data": {
      "image/png": "[encoded data removed]",
      "text/plain": [
       "<matplotlib.figure.Figure at 0x7f720ec95250>"
      ]
     },
     "metadata": {},
     "output_type": "display_data"
    }
   ],
   "source": [
    "times = [t.created_at for t in tweetsk]\n",
    "times.sort()\n",
    "timedeltas = [(times[i+1]-times[i]).total_seconds() for i in range(len(times)-1)]\n",
    "_times = []\n",
    "for i in timedeltas:\n",
    "    if i < 28800:\n",
    "        _times.append(i)\n",
    "_max = 9000\n",
    "_bins = 40\n",
    "mod = [x for x in _times if x < _max]\n",
    "_ = hist(mod, bins=_bins)        "
   ]
  },
  {
   "cell_type": "code",
   "execution_count": null,
   "metadata": {
    "collapsed": true
   },
   "outputs": [],
   "source": []
  }
 ],
 "metadata": {
  "kernelspec": {
   "display_name": "Python 2",
   "language": "python",
   "name": "python2"
  },
  "language_info": {
   "codemirror_mode": {
    "name": "ipython",
    "version": 2
   },
   "file_extension": ".py",
   "mimetype": "text/x-python",
   "name": "python",
   "nbconvert_exporter": "python",
   "pygments_lexer": "ipython2",
   "version": "2.7.6"
  }
 },
 "nbformat": 4,
 "nbformat_minor": 0
}
