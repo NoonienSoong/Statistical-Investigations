{
 "metadata": {
  "name": "",
  "signature": "sha256:fde049bbbbfbda38ab46187b64236c2d0aa95299d27b75afb2ad36d0e372db46"
 },
 "nbformat": 3,
 "nbformat_minor": 0,
 "worksheets": [
  {
   "cells": [
    {
     "cell_type": "code",
     "collapsed": false,
     "input": [
      "import scipy.stats as stats \n",
      "from numpy import *\n",
      "\n",
      "%pylab inline"
     ],
     "language": "python",
     "metadata": {},
     "outputs": [
      {
       "output_type": "stream",
       "stream": "stdout",
       "text": [
        "Populating the interactive namespace from numpy and matplotlib\n"
       ]
      }
     ],
     "prompt_number": 1
    },
    {
     "cell_type": "markdown",
     "metadata": {},
     "source": [
      "Exploring Norm-Distrubution with scipy"
     ]
    },
    {
     "cell_type": "code",
     "collapsed": false,
     "input": [
      "\n",
      "rV = stats.norm(3,4)\n",
      "#a)\n",
      "print rV.cdf(7)\n",
      "#0.84\n",
      "#b)\n",
      "print 1 - rV.cdf(-2)\n",
      "#0.89\n",
      "#c)\n",
      "print rV.ppf(.95)\n",
      "#9.5\n",
      "#d\n",
      "print rV.cdf(4) - rV.cdf(0)\n",
      "#0.37\n",
      "#e)\n",
      "print (rV.ppf(.975)) # +/-\n",
      "#10.83"
     ],
     "language": "python",
     "metadata": {},
     "outputs": [
      {
       "output_type": "stream",
       "stream": "stdout",
       "text": [
        "0.841344746069\n",
        "0.894350226333\n",
        "9.57941450781\n",
        "0.372078973306\n",
        "10.8398559382\n"
       ]
      }
     ],
     "prompt_number": 554
    },
    {
     "cell_type": "markdown",
     "metadata": {},
     "source": [
      "##If we start with c dollars and play a game. Where you flip a coin and for everytime it lands on heads you double your money and on tails you half it.\n",
      "\n",
      "##finding expected value"
     ]
    },
    {
     "cell_type": "code",
     "collapsed": false,
     "input": [
      "def game(start,trials):\n",
      "    data = []\n",
      "    \n",
      "    for i in range(trials):\n",
      "        x = np.random.binomial(1,.5)\n",
      "        if x==1:\n",
      "            start = start*2\n",
      "            data.append(start)\n",
      "        else:\n",
      "            start = start*(1./2)\n",
      "            data.append(start)\n",
      "    return data\n",
      "\n",
      "sample = game(3,5)\n",
      "\n",
      "hist(sample,bins=30,normed=True)\n",
      "\n",
      "print sum(sample)/size(sample)\n",
      "print sample"
     ],
     "language": "python",
     "metadata": {},
     "outputs": [
      {
       "output_type": "stream",
       "stream": "stdout",
       "text": [
        "2.325\n",
        "[6, 3.0, 1.5, 0.75, 0.375]\n"
       ]
      },
      {
       "metadata": {},
       "output_type": "display_data",
       "png": "[encoded data removed]",
       "text": [
        "<matplotlib.figure.Figure at 0x1066800d0>"
       ]
      }
     ],
     "prompt_number": 9
    },
    {
     "cell_type": "markdown",
     "metadata": {},
     "source": [
      "### Finding underlying distribution###"
     ]
    },
    {
     "cell_type": "code",
     "collapsed": false,
     "input": [
      "def dist(x):\n",
      "    if -1<=x<=1:\n",
      "       y = 3/2 * (x**2)\n",
      "    else:\n",
      "        y = 0\n",
      "    return y\n",
      "    \n",
      "    "
     ],
     "language": "python",
     "metadata": {},
     "outputs": [],
     "prompt_number": 6
    },
    {
     "cell_type": "markdown",
     "metadata": {},
     "source": [
      "##CDF of dist:##\n",
      "\n",
      "$$ F_X(x) = \\int_{-1}^x \\frac{3}{2}t^2 dt = \\frac{1}{2}(x^3 + 1) $$\n",
      "\n",
      "## Inverse CDF:##\n",
      "$$ F_X^{-1}(U) = \\sqrt[3]{2U -1}$$"
     ]
    },
    {
     "cell_type": "code",
     "collapsed": false,
     "input": [
      "def inv_dist(size):\n",
      "    U = uniform(size=size)\n",
      "    return 2*U-1\n",
      "def cube_root(x):\n",
      "    return sign(x)*(abs(x))**(1./3)"
     ],
     "language": "python",
     "metadata": {},
     "outputs": [],
     "prompt_number": 123
    },
    {
     "cell_type": "code",
     "collapsed": false,
     "input": [
      "new_samples = cube_root(inv_dist(1000))\n",
      "hist(new_samples,bins=30,normed=True)\n",
      "X = linspace(-1,1,10000)\n",
      "Y = 3./2*(X)**2\n",
      "\n",
      "plot(X,Y,'r-')"
     ],
     "language": "python",
     "metadata": {},
     "outputs": [
      {
       "metadata": {},
       "output_type": "pyout",
       "prompt_number": 541,
       "text": [
        "[<matplotlib.lines.Line2D at 0x10814e950>]"
       ]
      },
      {
       "metadata": {},
       "output_type": "display_data",
       "png": "[encoded data removed]",
       "text": [
        "<matplotlib.figure.Figure at 0x10814e350>"
       ]
      }
     ],
     "prompt_number": 541
    }
   ],
   "metadata": {}
  }
 ]
}